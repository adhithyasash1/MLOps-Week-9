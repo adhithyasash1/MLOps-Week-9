{
 "cells": [
  {
   "cell_type": "code",
   "execution_count": 2,
   "id": "2b2edeb9-89e1-4db7-87c6-a0ff48cca064",
   "metadata": {
    "tags": []
   },
   "outputs": [],
   "source": [
    "import pandas as pd\n",
    "import numpy as np\n",
    "import warnings\n",
    "import shap\n",
    "from sklearn.model_selection import train_test_split\n",
    "from sklearn.linear_model import LogisticRegression\n",
    "from sklearn.preprocessing import LabelEncoder\n",
    "from fairlearn.metrics import MetricFrame, selection_rate\n",
    "from sklearn.metrics import accuracy_score\n",
    "import matplotlib.pyplot as plt\n",
    "\n",
    "# Suppress warnings for a cleaner output\n",
    "warnings.filterwarnings('ignore')"
   ]
  },
  {
   "cell_type": "code",
   "execution_count": 3,
   "id": "7a418c17-b76c-4932-b9ff-98e765c6696e",
   "metadata": {
    "tags": []
   },
   "outputs": [
    {
     "name": "stdout",
     "output_type": "stream",
     "text": [
      "--- 1. Data Loading and Modification ---\n",
      "Successfully added random 'location' attribute.\n",
      "Data head:\n"
     ]
    },
    {
     "data": {
      "text/html": [
       "<div>\n",
       "<style scoped>\n",
       "    .dataframe tbody tr th:only-of-type {\n",
       "        vertical-align: middle;\n",
       "    }\n",
       "\n",
       "    .dataframe tbody tr th {\n",
       "        vertical-align: top;\n",
       "    }\n",
       "\n",
       "    .dataframe thead th {\n",
       "        text-align: right;\n",
       "    }\n",
       "</style>\n",
       "<table border=\"1\" class=\"dataframe\">\n",
       "  <thead>\n",
       "    <tr style=\"text-align: right;\">\n",
       "      <th></th>\n",
       "      <th>sepal_length</th>\n",
       "      <th>sepal_width</th>\n",
       "      <th>petal_length</th>\n",
       "      <th>petal_width</th>\n",
       "      <th>species</th>\n",
       "      <th>location</th>\n",
       "    </tr>\n",
       "  </thead>\n",
       "  <tbody>\n",
       "    <tr>\n",
       "      <th>0</th>\n",
       "      <td>5.1</td>\n",
       "      <td>3.5</td>\n",
       "      <td>1.4</td>\n",
       "      <td>0.2</td>\n",
       "      <td>setosa</td>\n",
       "      <td>0</td>\n",
       "    </tr>\n",
       "    <tr>\n",
       "      <th>1</th>\n",
       "      <td>4.9</td>\n",
       "      <td>3.0</td>\n",
       "      <td>1.4</td>\n",
       "      <td>0.2</td>\n",
       "      <td>setosa</td>\n",
       "      <td>1</td>\n",
       "    </tr>\n",
       "    <tr>\n",
       "      <th>2</th>\n",
       "      <td>4.7</td>\n",
       "      <td>3.2</td>\n",
       "      <td>1.3</td>\n",
       "      <td>0.2</td>\n",
       "      <td>setosa</td>\n",
       "      <td>0</td>\n",
       "    </tr>\n",
       "    <tr>\n",
       "      <th>3</th>\n",
       "      <td>4.6</td>\n",
       "      <td>3.1</td>\n",
       "      <td>1.5</td>\n",
       "      <td>0.2</td>\n",
       "      <td>setosa</td>\n",
       "      <td>0</td>\n",
       "    </tr>\n",
       "    <tr>\n",
       "      <th>4</th>\n",
       "      <td>5.0</td>\n",
       "      <td>3.6</td>\n",
       "      <td>1.4</td>\n",
       "      <td>0.2</td>\n",
       "      <td>setosa</td>\n",
       "      <td>0</td>\n",
       "    </tr>\n",
       "  </tbody>\n",
       "</table>\n",
       "</div>"
      ],
      "text/plain": [
       "   sepal_length  sepal_width  petal_length  petal_width species  location\n",
       "0           5.1          3.5           1.4          0.2  setosa         0\n",
       "1           4.9          3.0           1.4          0.2  setosa         1\n",
       "2           4.7          3.2           1.3          0.2  setosa         0\n",
       "3           4.6          3.1           1.5          0.2  setosa         0\n",
       "4           5.0          3.6           1.4          0.2  setosa         0"
      ]
     },
     "execution_count": 3,
     "metadata": {},
     "output_type": "execute_result"
    }
   ],
   "source": [
    "print(\"--- 1. Data Loading and Modification ---\")\n",
    "# Load the dataset\n",
    "data = pd.read_csv('data/iris.csv')\n",
    "\n",
    "# Introduce a \"location\" attribute with random 0s and 1s\n",
    "np.random.seed(42) # for reproducibility\n",
    "data['location'] = np.random.randint(0, 2, data.shape[0])\n",
    "\n",
    "print(\"Successfully added random 'location' attribute.\")\n",
    "print(\"Data head:\")\n",
    "data.head()"
   ]
  },
  {
   "cell_type": "code",
   "execution_count": 4,
   "id": "1d3a1216-cff4-4531-982a-7b86ba9d8818",
   "metadata": {
    "tags": []
   },
   "outputs": [
    {
     "name": "stdout",
     "output_type": "stream",
     "text": [
      "\n",
      "--- 2. Model Training ---\n",
      "Target classes: ['setosa' 'versicolor' 'virginica']\n",
      "Model trained. Overall Accuracy: 0.9333\n"
     ]
    }
   ],
   "source": [
    "print(\"\\n--- 2. Model Training ---\")\n",
    "\n",
    "# --- Data Preparation ---\n",
    "X = data[['sepal_length', 'sepal_width', 'petal_length', 'petal_width']]\n",
    "y_raw = data['species']\n",
    "sensitive_features = data['location']\n",
    "\n",
    "# Encode the target variable\n",
    "label_encoder = LabelEncoder()\n",
    "y = label_encoder.fit_transform(y_raw)\n",
    "class_names = label_encoder.classes_\n",
    "print(f\"Target classes: {class_names}\")\n",
    "\n",
    "# Split the data\n",
    "X_train, X_test, y_train, y_test, sensitive_features_train, sensitive_features_test = train_test_split(\n",
    "    X, y, sensitive_features, test_size=0.3, random_state=42, stratify=y\n",
    ")\n",
    "\n",
    "# Train the model\n",
    "model = LogisticRegression(max_iter=200, random_state=42)\n",
    "model.fit(X_train, y_train)\n",
    "y_pred = model.predict(X_test)\n",
    "overall_accuracy = accuracy_score(y_test, y_pred)\n",
    "print(f\"Model trained. Overall Accuracy: {overall_accuracy:.4f}\")"
   ]
  },
  {
   "cell_type": "code",
   "execution_count": 6,
   "id": "7eb79ec9-365e-4395-85c2-738475978110",
   "metadata": {
    "tags": []
   },
   "outputs": [
    {
     "name": "stdout",
     "output_type": "stream",
     "text": [
      "\n",
      "--- 3. Fairness Analysis with Fairlearn ---\n",
      "Fairness metrics grouped by 'location':\n",
      "          accuracy  selection_rate\n",
      "location                          \n",
      "0         0.952381        0.285714\n",
      "1         0.916667        0.416667\n",
      "\n",
      "Difference in accuracy between Location 0 and Location 1: 0.0357\n",
      "Accuracy appears balanced across locations.\n"
     ]
    }
   ],
   "source": [
    "print(\"\\n--- 3. Fairness Analysis with Fairlearn ---\")\n",
    "\n",
    "# Use MetricFrame to analyze metrics grouped by the sensitive 'location' feature\n",
    "metrics = {\n",
    "    'accuracy': accuracy_score,\n",
    "    'selection_rate': selection_rate # how often the model predicts each class\n",
    "}\n",
    "grouped_on_location = MetricFrame(metrics=metrics,\n",
    "                                  y_true=y_test,\n",
    "                                  y_pred=y_pred,\n",
    "                                  sensitive_features=sensitive_features_test)\n",
    "\n",
    "# Get the results and print them\n",
    "fairness_results = grouped_on_location.by_group\n",
    "print(\"Fairness metrics grouped by 'location':\")\n",
    "print(fairness_results)\n",
    "\n",
    "# Analyze the results for bias\n",
    "acc_diff = abs(fairness_results['accuracy'][0] - fairness_results['accuracy'][1])\n",
    "print(f\"\\nDifference in accuracy between Location 0 and Location 1: {acc_diff:.4f}\")\n",
    "if acc_diff > 0.1:\n",
    "    print(\"Indication of potential accuracy disparity bias.\")\n",
    "else:\n",
    "    print(\"Accuracy appears balanced across locations.\")"
   ]
  },
  {
   "cell_type": "code",
   "execution_count": 11,
   "id": "7b439d4d-0dbb-466f-95b3-8817bc532114",
   "metadata": {
    "tags": []
   },
   "outputs": [
    {
     "name": "stdout",
     "output_type": "stream",
     "text": [
      "\n",
      "--- 4. Explainability Analysis with SHAP ---\n",
      "The class 'virginica' corresponds to index 2.\n",
      "\n",
      "Generating SHAP summary plot for class 'virginica'...\n"
     ]
    },
    {
     "data": {
      "image/png": "[encoded data removed]",
      "text/plain": [
       "<Figure size 800x310 with 2 Axes>"
      ]
     },
     "metadata": {},
     "output_type": "display_data"
    }
   ],
   "source": [
    "print(\"\\n--- 4. Explainability Analysis with SHAP ---\")\n",
    "\n",
    "# Use the modern, unified Explainer API\n",
    "# This will automatically choose the best explainer for your model\n",
    "explainer = shap.Explainer(model, X_train)\n",
    "\n",
    "# Calculate a SHAP Explanation object for the test set\n",
    "shap_explanation = explainer(X_test)\n",
    "\n",
    "# Find the index for the 'virginica' class for plotting\n",
    "virginica_index = list(class_names).index('virginica')\n",
    "print(f\"The class 'virginica' corresponds to index {virginica_index}.\")\n",
    "\n",
    "# Create and display the summary plot by slicing the Explanation object\n",
    "print(\"\\nGenerating SHAP summary plot for class 'virginica'...\")\n",
    "plt.title(\"SHAP Summary for Predicting 'virginica'\")\n",
    "shap.summary_plot(shap_explanation[:, :, virginica_index], X_test)"
   ]
  },
  {
   "cell_type": "code",
   "execution_count": null,
   "id": "4c2517fb-6396-4aa9-9677-dbcf645ff70f",
   "metadata": {},
   "outputs": [],
   "source": []
  },
  {
   "cell_type": "code",
   "execution_count": null,
   "id": "9ce11ddc-45b0-4a95-b5d8-e8503136ed4d",
   "metadata": {},
   "outputs": [],
   "source": []
  },
  {
   "cell_type": "code",
   "execution_count": null,
   "id": "9f4b43f1-d218-42c1-96fd-1fe54f468ff5",
   "metadata": {},
   "outputs": [],
   "source": []
  },
  {
   "cell_type": "code",
   "execution_count": null,
   "id": "73efd2ee-976a-4c3e-9423-bd8a4bc47e35",
   "metadata": {},
   "outputs": [],
   "source": []
  },
  {
   "cell_type": "code",
   "execution_count": null,
   "id": "627baf99-af24-4ec5-9b50-2ef00278e69b",
   "metadata": {},
   "outputs": [],
   "source": []
  }
 ],
 "metadata": {
  "environment": {
   "kernel": "conda-base-py",
   "name": "workbench-notebooks.m130",
   "type": "gcloud",
   "uri": "us-docker.pkg.dev/deeplearning-platform-release/gcr.io/workbench-notebooks:m130"
  },
  "kernelspec": {
   "display_name": "Python 3 (ipykernel) (Local)",
   "language": "python",
   "name": "conda-base-py"
  },
  "language_info": {
   "codemirror_mode": {
    "name": "ipython",
    "version": 3
   },
   "file_extension": ".py",
   "mimetype": "text/x-python",
   "name": "python",
   "nbconvert_exporter": "python",
   "pygments_lexer": "ipython3",
   "version": "3.10.18"
  }
 },
 "nbformat": 4,
 "nbformat_minor": 5
}
